{
 "cells": [
  {
   "cell_type": "code",
   "execution_count": 3,
   "metadata": {},
   "outputs": [
    {
     "name": "stdout",
     "output_type": "stream",
     "text": [
      "This is my first line of code\n"
     ]
    }
   ],
   "source": [
    "print(\"This is my first line of code\")"
   ]
  },
  {
   "cell_type": "code",
   "execution_count": 5,
   "metadata": {},
   "outputs": [
    {
     "name": "stdout",
     "output_type": "stream",
     "text": [
      "Hello \n",
      "This is the next line of code\n"
     ]
    }
   ],
   "source": [
    "print(\"Hello \\nThis is the next line of code\")"
   ]
  },
  {
   "cell_type": "code",
   "execution_count": 7,
   "metadata": {},
   "outputs": [
    {
     "name": "stdout",
     "output_type": "stream",
     "text": [
      "13\n",
      "-1\n",
      "42\n",
      "0\n",
      "279936\n"
     ]
    }
   ],
   "source": [
    "a = 6\n",
    "b = 7\n",
    "\n",
    "#addition\n",
    "print(a+b)\n",
    "\n",
    "#subtraction\n",
    "print(a-b)\n",
    "\n",
    "#multiplication\n",
    "print(a*b)\n",
    "\n",
    "#division\n",
    "print(a/b)\n",
    "\n",
    "#exponential\n",
    "print(a ** b)"
   ]
  },
  {
   "cell_type": "code",
   "execution_count": null,
   "metadata": {},
   "outputs": [],
   "source": [
    "#BEDMAS\n",
    "print ( 4* 5 - 9 + 6 / )"
   ]
  }
 ],
 "metadata": {
  "kernelspec": {
   "display_name": "Python 2",
   "language": "python",
   "name": "python2"
  },
  "language_info": {
   "codemirror_mode": {
    "name": "ipython",
    "version": 2
   },
   "file_extension": ".py",
   "mimetype": "text/x-python",
   "name": "python",
   "nbconvert_exporter": "python",
   "pygments_lexer": "ipython2",
   "version": "2.7.18"
  }
 },
 "nbformat": 4,
 "nbformat_minor": 2
}
