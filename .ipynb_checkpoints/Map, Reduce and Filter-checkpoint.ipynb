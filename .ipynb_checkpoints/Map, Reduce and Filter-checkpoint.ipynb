{
 "cells": [
  {
   "cell_type": "code",
   "execution_count": 7,
   "metadata": {},
   "outputs": [
    {
     "name": "stdout",
     "output_type": "stream",
     "text": [
      "eoeoeoo\n"
     ]
    }
   ],
   "source": [
    "def is_vowel(character):\n",
    "    vowels = ['a','e','i','o','u']\n",
    "    return character.lower() in vowels\n",
    "\n",
    "text = \"Hello, Welcome to Python\"\n",
    "filtred_text = filter(is_vowel, text)\n",
    "filtered_vowels = ''.join(filtred_text)\n",
    "print(filtered_vowels)"
   ]
  },
  {
   "cell_type": "code",
   "execution_count": 12,
   "metadata": {},
   "outputs": [
    {
     "name": "stdout",
     "output_type": "stream",
     "text": [
      "Python\n"
     ]
    }
   ],
   "source": [
    "from functools import reduce\n",
    "text = \"Python\"\n",
    "# + is for concatenating two characters\n",
    "result = reduce(lambda x, y: x+y, text)\n",
    "print(result)"
   ]
  },
  {
   "cell_type": "code",
   "execution_count": 13,
   "metadata": {},
   "outputs": [
    {
     "name": "stdout",
     "output_type": "stream",
     "text": [
      "120\n"
     ]
    }
   ],
   "source": [
    "from functools import reduce\n",
    "numbers = (1,2,3,4,5)\n",
    "result = reduce(lambda x,y: x*y, numbers)\n",
    "print(result)"
   ]
  },
  {
   "cell_type": "code",
   "execution_count": 14,
   "metadata": {},
   "outputs": [],
   "source": [
    "# Reduce is used to perform cumulative operations on an ierable input, and want a single result. Can be done with dict and set also"
   ]
  },
  {
   "cell_type": "code",
   "execution_count": 15,
   "metadata": {},
   "outputs": [
    {
     "name": "stdout",
     "output_type": "stream",
     "text": [
      "175\n"
     ]
    }
   ],
   "source": [
    "from functools import reduce\n",
    "grades = {\n",
    "    'John': 90,\n",
    "    'Sarah': 85\n",
    "}\n",
    "result = reduce(lambda x, y: x+y, grades.values())\n",
    "print(result)"
   ]
  },
  {
   "cell_type": "code",
   "execution_count": 17,
   "metadata": {},
   "outputs": [
    {
     "name": "stdout",
     "output_type": "stream",
     "text": [
      "100\n"
     ]
    }
   ],
   "source": [
    "numList = [22,34,5,90,100]\n",
    "print(reduce(lambda x,y: x if x>y else y, numList))"
   ]
  },
  {
   "cell_type": "code",
   "execution_count": null,
   "metadata": {},
   "outputs": [],
   "source": []
  }
 ],
 "metadata": {
  "kernelspec": {
   "display_name": "Python 2",
   "language": "python",
   "name": "python2"
  },
  "language_info": {
   "codemirror_mode": {
    "name": "ipython",
    "version": 2
   },
   "file_extension": ".py",
   "mimetype": "text/x-python",
   "name": "python",
   "nbconvert_exporter": "python",
   "pygments_lexer": "ipython2",
   "version": "2.7.18"
  }
 },
 "nbformat": 4,
 "nbformat_minor": 2
}
